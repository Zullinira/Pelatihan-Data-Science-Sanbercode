{
 "cells": [
  {
   "cell_type": "markdown",
   "metadata": {},
   "source": [
    "# Hari 3 – Logic Control Flow and Loop"
   ]
  },
  {
   "cell_type": "markdown",
   "metadata": {},
   "source": [
    "Python memiliki sebuah tipe data bernama boolean, yang hanya memiliki 2 nilai, yaitu True atau False"
   ]
  },
  {
   "cell_type": "code",
   "execution_count": 1,
   "metadata": {},
   "outputs": [],
   "source": [
    "x = True"
   ]
  },
  {
   "cell_type": "code",
   "execution_count": 2,
   "metadata": {},
   "outputs": [
    {
     "name": "stdout",
     "output_type": "stream",
     "text": [
      "True\n"
     ]
    }
   ],
   "source": [
    "print(x)"
   ]
  },
  {
   "cell_type": "code",
   "execution_count": 3,
   "metadata": {},
   "outputs": [
    {
     "name": "stdout",
     "output_type": "stream",
     "text": [
      "<class 'bool'>\n"
     ]
    }
   ],
   "source": [
    "print(type(x))"
   ]
  },
  {
   "cell_type": "markdown",
   "metadata": {},
   "source": [
    "Daripada memasukan nilai boolean (True or False) langsung kepada variable, lebih baik mendapatkan nilai dengan melakukan suatu operasi. Operasi itu dinamakan comparison operator. "
   ]
  },
  {
   "cell_type": "markdown",
   "metadata": {},
   "source": [
    "#### Comparison Operator "
   ]
  },
  {
   "cell_type": "markdown",
   "metadata": {},
   "source": [
    "contoh :\n",
    "1. a==b  : a sama dengan b\n",
    "2. a < b : a kecil dari b\n",
    "3. a<= b : a kecil sama dengan b\n",
    "4. a!=b  : a tidak sama dengan b\n",
    "5. a > b : a nesar dari b\n",
    "6. a >=b : a besar sama dengan b"
   ]
  },
  {
   "cell_type": "code",
   "execution_count": 4,
   "metadata": {},
   "outputs": [],
   "source": [
    "def contoh(age):\n",
    "    \"\"\"Can someone of the given age run for president in the US?\"\"\"\n",
    "    return age>=35\n",
    "\n",
    "#yg direturn berarti yg true"
   ]
  },
  {
   "cell_type": "code",
   "execution_count": 5,
   "metadata": {},
   "outputs": [
    {
     "name": "stdout",
     "output_type": "stream",
     "text": [
      "Can a 19-year-old run for president? False\n"
     ]
    }
   ],
   "source": [
    "print(\"Can a 19-year-old run for president?\",contoh(19))"
   ]
  },
  {
   "cell_type": "code",
   "execution_count": 6,
   "metadata": {},
   "outputs": [
    {
     "name": "stdout",
     "output_type": "stream",
     "text": [
      "Can a 45-year-old run for president? True\n"
     ]
    }
   ],
   "source": [
    "print(\"Can a 45-year-old run for president?\",contoh(45))"
   ]
  },
  {
   "cell_type": "code",
   "execution_count": 7,
   "metadata": {},
   "outputs": [
    {
     "name": "stdout",
     "output_type": "stream",
     "text": [
      "True\n"
     ]
    }
   ],
   "source": [
    "print(3.00==3)"
   ]
  },
  {
   "cell_type": "code",
   "execution_count": 8,
   "metadata": {},
   "outputs": [
    {
     "name": "stdout",
     "output_type": "stream",
     "text": [
      "False\n"
     ]
    }
   ],
   "source": [
    "print('3'==3) #karna jdi string?"
   ]
  },
  {
   "cell_type": "code",
   "execution_count": 9,
   "metadata": {},
   "outputs": [],
   "source": [
    "def contoh2(age, born):\n",
    "    \"\"\"Can someone of the given age run for president in the US?\"\"\"\n",
    "    return (age>=35) and born\n",
    "\n",
    "#yg direturn berarti yg true"
   ]
  },
  {
   "cell_type": "code",
   "execution_count": 10,
   "metadata": {},
   "outputs": [
    {
     "name": "stdout",
     "output_type": "stream",
     "text": [
      "Can a 45-year-old run for president? True\n"
     ]
    }
   ],
   "source": [
    "print(\"Can a 45-year-old run for president?\",contoh2(45, True))"
   ]
  },
  {
   "cell_type": "code",
   "execution_count": 11,
   "metadata": {},
   "outputs": [
    {
     "name": "stdout",
     "output_type": "stream",
     "text": [
      "Can a 45-year-old run for president? False\n"
     ]
    }
   ],
   "source": [
    "print(\"Can a 45-year-old run for president?\",contoh2(45, False))"
   ]
  },
  {
   "cell_type": "markdown",
   "metadata": {},
   "source": [
    "#### conditional statement "
   ]
  },
  {
   "cell_type": "markdown",
   "metadata": {},
   "source": [
    "menggunakan keyword if, else, dan elif. Conditional statement biasa disebut dengan if-then"
   ]
  },
  {
   "cell_type": "code",
   "execution_count": 12,
   "metadata": {},
   "outputs": [
    {
     "name": "stdout",
     "output_type": "stream",
     "text": [
      "0 is zero\n",
      "-15 is negative\n"
     ]
    }
   ],
   "source": [
    "def inspect(x):\n",
    "    if x == 0:\n",
    "        print(x, \"is zero\")\n",
    "    elif x > 0:\n",
    "        print(x, \"is positive\")\n",
    "    elif x < 0:\n",
    "        print(x, \"is negative\")\n",
    "    else:\n",
    "        print(x, \"is unlike anything I've ever seen...\")\n",
    "\n",
    "inspect(0)\n",
    "inspect(-15)"
   ]
  },
  {
   "cell_type": "markdown",
   "metadata": {},
   "source": [
    "# Loop"
   ]
  },
  {
   "cell_type": "code",
   "execution_count": 13,
   "metadata": {},
   "outputs": [
    {
     "name": "stdout",
     "output_type": "stream",
     "text": [
      "Mercury Venus Earth Mars Jupiter Saturn Uranus Neptune "
     ]
    }
   ],
   "source": [
    "planets = ['Mercury', 'Venus', 'Earth', 'Mars', 'Jupiter', 'Saturn', 'Uranus', 'Neptune']\n",
    "for planet in planets:\n",
    "    print(planet, end=' ')#print all on same line"
   ]
  },
  {
   "cell_type": "code",
   "execution_count": 14,
   "metadata": {},
   "outputs": [
    {
     "name": "stdout",
     "output_type": "stream",
     "text": [
      "Doing important work. i= 0\n",
      "Doing important work. i= 1\n",
      "Doing important work. i= 2\n",
      "Doing important work. i= 3\n",
      "Doing important work. i= 4\n"
     ]
    }
   ],
   "source": [
    "for i in range(5):\n",
    "    print(\"Doing important work. i=\",i) #tidak ada (end ='') maka for ditulis kebawah \n",
    "    "
   ]
  },
  {
   "cell_type": "code",
   "execution_count": 15,
   "metadata": {},
   "outputs": [
    {
     "name": "stdout",
     "output_type": "stream",
     "text": [
      "room0: 11.25\n",
      "room1: 18.0\n",
      "room2: 20.0\n",
      "room3: 10.75\n",
      "room4: 9.5\n"
     ]
    }
   ],
   "source": [
    "areas = [11.25, 18.0, 20.0, 10.75, 9.50]\n",
    "for index, x in enumerate(areas):\n",
    "    print(\"room\"+str(index)+\": \"+str(x))"
   ]
  },
  {
   "cell_type": "code",
   "execution_count": 16,
   "metadata": {},
   "outputs": [
    {
     "name": "stdout",
     "output_type": "stream",
     "text": [
      "room:(0, 11.25)\n",
      "room:(1, 18.0)\n",
      "room:(2, 20.0)\n",
      "room:(3, 10.75)\n",
      "room:(4, 9.5)\n"
     ]
    }
   ],
   "source": [
    "areas = [11.25, 18.0, 20.0, 10.75, 9.50]\n",
    "for x in enumerate(areas):\n",
    "    print(\"room\"+\":\"+str(x))"
   ]
  },
  {
   "cell_type": "markdown",
   "metadata": {},
   "source": [
    "## while loop"
   ]
  },
  {
   "cell_type": "markdown",
   "metadata": {},
   "source": [
    "while loop akan terus menerus melakukan looping sampai memenuhi suatu kondisi yang membuat dia harus berhenti, "
   ]
  },
  {
   "cell_type": "code",
   "execution_count": 17,
   "metadata": {},
   "outputs": [
    {
     "name": "stdout",
     "output_type": "stream",
     "text": [
      "0 1 2 3 4 5 6 7 8 9 "
     ]
    }
   ],
   "source": [
    "i=0\n",
    "while i<10:\n",
    "    print(i, end=' ')\n",
    "    i +=1"
   ]
  },
  {
   "cell_type": "markdown",
   "metadata": {},
   "source": [
    "### Break "
   ]
  },
  {
   "cell_type": "markdown",
   "metadata": {},
   "source": [
    "Break statement digunakan untuk mengakhiri suatu looping jika telah memenuhi kondisi tertentu."
   ]
  },
  {
   "cell_type": "code",
   "execution_count": 19,
   "metadata": {},
   "outputs": [
    {
     "name": "stdout",
     "output_type": "stream",
     "text": [
      "input string :hallo\n",
      "length of kata is 5\n",
      "input string :haa\n",
      "length of kata is 3\n",
      "input string :hapan datang?\n",
      "length of kata is 13\n",
      "input string :quit\n"
     ]
    }
   ],
   "source": [
    "while True:\n",
    "    a=input('input string :')\n",
    "    if a == 'quit':\n",
    "        break\n",
    "    print('length of kata is {}'.format(len(a)))"
   ]
  },
  {
   "cell_type": "markdown",
   "metadata": {},
   "source": [
    "### Continue\n"
   ]
  },
  {
   "cell_type": "markdown",
   "metadata": {},
   "source": [
    "Continue statement digunakan untuk menskip atau mengakhiri iterasi yang sedang berjalan dan melanjutkan iterasi selanjutnya. sebagai contoh:"
   ]
  },
  {
   "cell_type": "code",
   "execution_count": 20,
   "metadata": {},
   "outputs": [
    {
     "name": "stdout",
     "output_type": "stream",
     "text": [
      "my fruit is apple\n",
      "my fruit is banana\n",
      "my fruit is grape\n",
      "my fruit is pineapple\n"
     ]
    }
   ],
   "source": [
    "fruits = ['apple', 'banana', 'orange', 'grape', 'pineapple']\n",
    "for i in fruits:\n",
    "    if i== 'orange':\n",
    "        continue\n",
    "    print('my fruit is {}'.format(i))"
   ]
  },
  {
   "cell_type": "markdown",
   "metadata": {},
   "source": [
    "### Pass\n"
   ]
  },
  {
   "cell_type": "markdown",
   "metadata": {},
   "source": [
    "Pass statement merupakan null statement. Pass digunakan ketika kita membuat suatu stament tetapi tidak ingin menambahkan suatu kode. Saat statement Pass dieksekusi, maka tidak akan terjadi apa-apa tetapi kita bisa menghindari error."
   ]
  },
  {
   "cell_type": "code",
   "execution_count": 23,
   "metadata": {},
   "outputs": [],
   "source": [
    "if True:\n",
    "    pass\n"
   ]
  },
  {
   "cell_type": "code",
   "execution_count": 24,
   "metadata": {},
   "outputs": [],
   "source": [
    "a=33\n",
    "b=200\n",
    "if b>a :\n",
    "    pass"
   ]
  },
  {
   "cell_type": "markdown",
   "metadata": {},
   "source": [
    "# Exception Handling"
   ]
  },
  {
   "cell_type": "markdown",
   "metadata": {},
   "source": [
    " Exception handling merupakan statement yang mengatur error dalam sebuah kode.\n",
    " \n",
    "- Try : suatu statement yang mengetes kode error\n",
    "- Except : suatu statement yang menghandle apabila ada error\n",
    "- Finally : suatu statement yang mengeksekusi suatu kode\n",
    " "
   ]
  },
  {
   "cell_type": "code",
   "execution_count": 27,
   "metadata": {},
   "outputs": [
    {
     "name": "stdout",
     "output_type": "stream",
     "text": [
      "4\n",
      "0\n",
      "raising error in: division by zero\n",
      "Finish\n"
     ]
    }
   ],
   "source": [
    "a =int(input())\n",
    "b =int(input())\n",
    "\n",
    "\n",
    "try :\n",
    "    c=a/b\n",
    "except Exception as e:\n",
    "    print('raising error in:',e)\n",
    "finally :\n",
    "    print(\"Finish\")"
   ]
  },
  {
   "cell_type": "code",
   "execution_count": null,
   "metadata": {},
   "outputs": [],
   "source": []
  }
 ],
 "metadata": {
  "kernelspec": {
   "display_name": "Python 3",
   "language": "python",
   "name": "py3"
  },
  "language_info": {
   "codemirror_mode": {
    "name": "ipython",
    "version": 3
   },
   "file_extension": ".py",
   "mimetype": "text/x-python",
   "name": "python",
   "nbconvert_exporter": "python",
   "pygments_lexer": "ipython3",
   "version": "3.7.10"
  }
 },
 "nbformat": 4,
 "nbformat_minor": 2
}
