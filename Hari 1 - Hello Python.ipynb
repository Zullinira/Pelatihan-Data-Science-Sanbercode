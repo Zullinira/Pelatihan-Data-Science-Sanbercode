{
 "cells": [
  {
   "cell_type": "markdown",
   "metadata": {},
   "source": [
    "# Hari 1 - Hello Pyhton"
   ]
  },
  {
   "cell_type": "markdown",
   "metadata": {},
   "source": [
    "Beberapa alasan kepopuleran python :\n",
    "1. Multipurpose programming\n",
    "2. Mudah untuk dipelajari\n",
    "3. Open source"
   ]
  },
  {
   "cell_type": "markdown",
   "metadata": {},
   "source": [
    "Beberapa tipe data pyhton :\n",
    "    1. Boolean = Nilai True(1) dan False(10)\n",
    "    2. String = diapit \" atau '\n",
    "    3. Integer = angka dengan tidak ada koma\n",
    "    4. Float = angka dengan koma\n",
    "    5. Hexadecimal = format heksa (berbasis 16) contoh : 9a atau 1d3\n",
    "    6. Complex = angka dan imajiner (1+5j)\n",
    "    7. List = diapit [], tipe data beda, isi bisa diubah\n",
    "    8. Tuple = diapit (), tipe data beda, isi tidak bisa diubah\n",
    "    9. Dictionary = diapit {}, tipe data beda, berupa pasangan dengan nilai. Contoh:\n",
    "    {'nama':'adi',\n",
    "     'id'  : 2}"
   ]
  },
  {
   "cell_type": "code",
   "execution_count": 1,
   "metadata": {},
   "outputs": [],
   "source": [
    "#mencetak string\n",
    "name = 'Nira'\n",
    "age =17"
   ]
  },
  {
   "cell_type": "code",
   "execution_count": 3,
   "metadata": {},
   "outputs": [
    {
     "name": "stdout",
     "output_type": "stream",
     "text": [
      "Hello i am Nira, i am 17 years old\n"
     ]
    }
   ],
   "source": [
    "print('Hello i am '+name+', i am '+ str(age)+' years old')"
   ]
  },
  {
   "cell_type": "code",
   "execution_count": 4,
   "metadata": {},
   "outputs": [
    {
     "name": "stdout",
     "output_type": "stream",
     "text": [
      "Hello i am  Nira  i am 17 years old\n"
     ]
    }
   ],
   "source": [
    "print(\"Hello i am \", name,\" i am\", age,\"years old\")"
   ]
  },
  {
   "cell_type": "code",
   "execution_count": 5,
   "metadata": {},
   "outputs": [
    {
     "name": "stdout",
     "output_type": "stream",
     "text": [
      "Hello i am Nira i am 17 years old\n"
     ]
    }
   ],
   "source": [
    "#old style\n",
    "print('Hello i am %s i am %d years old'%(name,age))"
   ]
  },
  {
   "cell_type": "code",
   "execution_count": 6,
   "metadata": {},
   "outputs": [
    {
     "name": "stdout",
     "output_type": "stream",
     "text": [
      "Hello i am Nira i am 17 years old\n"
     ]
    }
   ],
   "source": [
    "#new style string formatting\n",
    "print('Hello i am {} i am {} years old'.format(name,age))"
   ]
  },
  {
   "cell_type": "code",
   "execution_count": 10,
   "metadata": {},
   "outputs": [
    {
     "name": "stdout",
     "output_type": "stream",
     "text": [
      "Hello i am Nira i am 17 years old\n"
     ]
    }
   ],
   "source": [
    "#string interpolation\n",
    "print(f'Hello i am {name} i am {age} years old')"
   ]
  },
  {
   "cell_type": "markdown",
   "metadata": {},
   "source": [
    "### PIP pada pyhton"
   ]
  },
  {
   "cell_type": "markdown",
   "metadata": {},
   "source": [
    "PIP digunakan untuk manajemen paket di Python berupa menginstal, menghapus, mengupgrade, dll."
   ]
  },
  {
   "cell_type": "code",
   "execution_count": null,
   "metadata": {},
   "outputs": [],
   "source": []
  }
 ],
 "metadata": {
  "kernelspec": {
   "display_name": "Python 3",
   "language": "python",
   "name": "py3"
  },
  "language_info": {
   "codemirror_mode": {
    "name": "ipython",
    "version": 3
   },
   "file_extension": ".py",
   "mimetype": "text/x-python",
   "name": "python",
   "nbconvert_exporter": "python",
   "pygments_lexer": "ipython3",
   "version": "3.7.10"
  }
 },
 "nbformat": 4,
 "nbformat_minor": 2
}
